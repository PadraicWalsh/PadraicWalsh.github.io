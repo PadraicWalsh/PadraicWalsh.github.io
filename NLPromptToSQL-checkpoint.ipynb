{
 "cells": [
  {
   "cell_type": "markdown",
   "id": "589b318d-a86d-4ad6-b732-034d3e0b75b3",
   "metadata": {},
   "source": [
    "# Project In-Memory SQL Database with OpenAi API Integration#\n",
    "Welcome to my project focused on creating an in-memory SQL database using your computer's RAM and seamlessly integrating data from Pandas DataFrames. This project provides a solution for efficient data manipulation and analysis, leveraging the power of SQL queries in an in-memory environment.\n",
    "\n",
    "# Project Goals\n",
    "--Creating a Temporary In-Memory Database: I developed a Python script that creates a temporary in-memory database within my own RAM. This database is designed to hold data for manipulation and analysis without the need for permanent storage.\n",
    "\n",
    "--Seamless Pandas Integration: You can easily push your Pandas DataFrames into the temporary in-memory database. This step ensures that data can be easily accessed and queried within the temporary database.\n",
    "\n",
    "--Efficient SQL Queries: One of the core functionalities of this project is the ability to perform SQL queries on the temporary in-memory database. Once the data is in the in-memory database, you'll have the capability to do this. I implemented a SQL querying mechanism that enables users to extract meaningful insights from the data stored in the database.\n",
    "\n",
    "--File-to-In-Memory Conversion: This project provides the ability to turn a file, possibly a CSV or Excel sheet, into an in-memory SQL database. This conversion process facilitates quick data access and reduces the need for constant file reading and parsing.\n",
    "\n",
    "# How to Use\n",
    "Clone this repository to your local machine.\n",
    "\n",
    "Navigate to the project directory and run the necessary setup commands.\n",
    "\n",
    "Import your data using Pandas DataFrames.\n",
    "\n",
    "Use the provided functions to create the temporary in-memory SQL database and push your data into it.\n",
    "\n",
    "Start executing SQL queries on the data using the integrated in-memory SQL capabilities.\n",
    "\n",
    "# Technologies Used\n",
    "--Python --Pandas --Alchemy --OpenAi API\n",
    "\n",
    "# Contact\n",
    "-- LinkedIn: https://www.linkedin.com/in/padraicwalsh20/\n",
    "\n",
    "-- Email: wpadraic@gmail.com"
   ]
  },
  {
   "cell_type": "code",
   "execution_count": 46,
   "id": "e706ad29-0070-4336-942a-a83cd02e624c",
   "metadata": {
    "tags": []
   },
   "outputs": [],
   "source": [
    "import os"
   ]
  },
  {
   "cell_type": "code",
   "execution_count": 47,
   "id": "f0ed4296-4e83-404a-a7d9-dd7089e4568d",
   "metadata": {
    "tags": []
   },
   "outputs": [],
   "source": [
    "import openai"
   ]
  },
  {
   "cell_type": "code",
   "execution_count": 48,
   "id": "9f5e4468-f50b-4909-a708-e1011b4048d1",
   "metadata": {
    "tags": []
   },
   "outputs": [],
   "source": [
    "# Set up API key"
   ]
  },
  {
   "cell_type": "code",
   "execution_count": 52,
   "id": "3ed74c62-bab4-40fb-9c21-fff5be3ff754",
   "metadata": {
    "tags": []
   },
   "outputs": [],
   "source": [
    "openai.api_key = os.getenv(\"Openai_Api_Key\")"
   ]
  },
  {
   "cell_type": "code",
   "execution_count": 53,
   "id": "36aa0535-54aa-4556-a70d-323b24ffebc7",
   "metadata": {
    "tags": []
   },
   "outputs": [],
   "source": [
    "import pandas as pd"
   ]
  },
  {
   "cell_type": "code",
   "execution_count": 54,
   "id": "34dc4bd8-7634-4438-8271-04b0a550394f",
   "metadata": {
    "tags": []
   },
   "outputs": [],
   "source": [
    "df = pd.read_csv('sales_data_sample.csv')"
   ]
  },
  {
   "cell_type": "code",
   "execution_count": 55,
   "id": "9fae4d06-8762-45d2-a511-0c910ed0944c",
   "metadata": {
    "tags": []
   },
   "outputs": [
    {
     "data": {
      "text/html": [
       "<div>\n",
       "<style scoped>\n",
       "    .dataframe tbody tr th:only-of-type {\n",
       "        vertical-align: middle;\n",
       "    }\n",
       "\n",
       "    .dataframe tbody tr th {\n",
       "        vertical-align: top;\n",
       "    }\n",
       "\n",
       "    .dataframe thead th {\n",
       "        text-align: right;\n",
       "    }\n",
       "</style>\n",
       "<table border=\"1\" class=\"dataframe\">\n",
       "  <thead>\n",
       "    <tr style=\"text-align: right;\">\n",
       "      <th></th>\n",
       "      <th>ORDERNUMBER</th>\n",
       "      <th>QUANTITYORDERED</th>\n",
       "      <th>PRICEEACH</th>\n",
       "      <th>ORDERLINENUMBER</th>\n",
       "      <th>SALES</th>\n",
       "      <th>ORDERDATE</th>\n",
       "      <th>STATUS</th>\n",
       "      <th>QTR_ID</th>\n",
       "      <th>MONTH_ID</th>\n",
       "      <th>YEAR_ID</th>\n",
       "      <th>...</th>\n",
       "      <th>ADDRESSLINE1</th>\n",
       "      <th>ADDRESSLINE2</th>\n",
       "      <th>CITY</th>\n",
       "      <th>STATE</th>\n",
       "      <th>POSTALCODE</th>\n",
       "      <th>COUNTRY</th>\n",
       "      <th>TERRITORY</th>\n",
       "      <th>CONTACTLASTNAME</th>\n",
       "      <th>CONTACTFIRSTNAME</th>\n",
       "      <th>DEALSIZE</th>\n",
       "    </tr>\n",
       "  </thead>\n",
       "  <tbody>\n",
       "    <tr>\n",
       "      <th>0</th>\n",
       "      <td>10107</td>\n",
       "      <td>30</td>\n",
       "      <td>95.70</td>\n",
       "      <td>2</td>\n",
       "      <td>2871.00</td>\n",
       "      <td>2/24/2003 0:00</td>\n",
       "      <td>Shipped</td>\n",
       "      <td>1</td>\n",
       "      <td>2</td>\n",
       "      <td>2003</td>\n",
       "      <td>...</td>\n",
       "      <td>897 Long Airport Avenue</td>\n",
       "      <td>NaN</td>\n",
       "      <td>NYC</td>\n",
       "      <td>NY</td>\n",
       "      <td>10022</td>\n",
       "      <td>USA</td>\n",
       "      <td>NaN</td>\n",
       "      <td>Yu</td>\n",
       "      <td>Kwai</td>\n",
       "      <td>Small</td>\n",
       "    </tr>\n",
       "    <tr>\n",
       "      <th>1</th>\n",
       "      <td>10121</td>\n",
       "      <td>34</td>\n",
       "      <td>81.35</td>\n",
       "      <td>5</td>\n",
       "      <td>2765.90</td>\n",
       "      <td>5/7/2003 0:00</td>\n",
       "      <td>Shipped</td>\n",
       "      <td>2</td>\n",
       "      <td>5</td>\n",
       "      <td>2003</td>\n",
       "      <td>...</td>\n",
       "      <td>59 rue de l'Abbaye</td>\n",
       "      <td>NaN</td>\n",
       "      <td>Reims</td>\n",
       "      <td>NaN</td>\n",
       "      <td>51100</td>\n",
       "      <td>France</td>\n",
       "      <td>EMEA</td>\n",
       "      <td>Henriot</td>\n",
       "      <td>Paul</td>\n",
       "      <td>Small</td>\n",
       "    </tr>\n",
       "    <tr>\n",
       "      <th>2</th>\n",
       "      <td>10134</td>\n",
       "      <td>41</td>\n",
       "      <td>94.74</td>\n",
       "      <td>2</td>\n",
       "      <td>3884.34</td>\n",
       "      <td>7/1/2003 0:00</td>\n",
       "      <td>Shipped</td>\n",
       "      <td>3</td>\n",
       "      <td>7</td>\n",
       "      <td>2003</td>\n",
       "      <td>...</td>\n",
       "      <td>27 rue du Colonel Pierre Avia</td>\n",
       "      <td>NaN</td>\n",
       "      <td>Paris</td>\n",
       "      <td>NaN</td>\n",
       "      <td>75508</td>\n",
       "      <td>France</td>\n",
       "      <td>EMEA</td>\n",
       "      <td>Da Cunha</td>\n",
       "      <td>Daniel</td>\n",
       "      <td>Medium</td>\n",
       "    </tr>\n",
       "    <tr>\n",
       "      <th>3</th>\n",
       "      <td>10145</td>\n",
       "      <td>45</td>\n",
       "      <td>83.26</td>\n",
       "      <td>6</td>\n",
       "      <td>3746.70</td>\n",
       "      <td>8/25/2003 0:00</td>\n",
       "      <td>Shipped</td>\n",
       "      <td>3</td>\n",
       "      <td>8</td>\n",
       "      <td>2003</td>\n",
       "      <td>...</td>\n",
       "      <td>78934 Hillside Dr.</td>\n",
       "      <td>NaN</td>\n",
       "      <td>Pasadena</td>\n",
       "      <td>CA</td>\n",
       "      <td>90003</td>\n",
       "      <td>USA</td>\n",
       "      <td>NaN</td>\n",
       "      <td>Young</td>\n",
       "      <td>Julie</td>\n",
       "      <td>Medium</td>\n",
       "    </tr>\n",
       "    <tr>\n",
       "      <th>4</th>\n",
       "      <td>10159</td>\n",
       "      <td>49</td>\n",
       "      <td>100.00</td>\n",
       "      <td>14</td>\n",
       "      <td>5205.27</td>\n",
       "      <td>10/10/2003 0:00</td>\n",
       "      <td>Shipped</td>\n",
       "      <td>4</td>\n",
       "      <td>10</td>\n",
       "      <td>2003</td>\n",
       "      <td>...</td>\n",
       "      <td>7734 Strong St.</td>\n",
       "      <td>NaN</td>\n",
       "      <td>San Francisco</td>\n",
       "      <td>CA</td>\n",
       "      <td>NaN</td>\n",
       "      <td>USA</td>\n",
       "      <td>NaN</td>\n",
       "      <td>Brown</td>\n",
       "      <td>Julie</td>\n",
       "      <td>Medium</td>\n",
       "    </tr>\n",
       "  </tbody>\n",
       "</table>\n",
       "<p>5 rows × 25 columns</p>\n",
       "</div>"
      ],
      "text/plain": [
       "   ORDERNUMBER  QUANTITYORDERED  PRICEEACH  ORDERLINENUMBER    SALES  \\\n",
       "0        10107               30      95.70                2  2871.00   \n",
       "1        10121               34      81.35                5  2765.90   \n",
       "2        10134               41      94.74                2  3884.34   \n",
       "3        10145               45      83.26                6  3746.70   \n",
       "4        10159               49     100.00               14  5205.27   \n",
       "\n",
       "         ORDERDATE   STATUS  QTR_ID  MONTH_ID  YEAR_ID  ...  \\\n",
       "0   2/24/2003 0:00  Shipped       1         2     2003  ...   \n",
       "1    5/7/2003 0:00  Shipped       2         5     2003  ...   \n",
       "2    7/1/2003 0:00  Shipped       3         7     2003  ...   \n",
       "3   8/25/2003 0:00  Shipped       3         8     2003  ...   \n",
       "4  10/10/2003 0:00  Shipped       4        10     2003  ...   \n",
       "\n",
       "                    ADDRESSLINE1  ADDRESSLINE2           CITY STATE  \\\n",
       "0        897 Long Airport Avenue           NaN            NYC    NY   \n",
       "1             59 rue de l'Abbaye           NaN          Reims   NaN   \n",
       "2  27 rue du Colonel Pierre Avia           NaN          Paris   NaN   \n",
       "3             78934 Hillside Dr.           NaN       Pasadena    CA   \n",
       "4                7734 Strong St.           NaN  San Francisco    CA   \n",
       "\n",
       "  POSTALCODE COUNTRY TERRITORY CONTACTLASTNAME CONTACTFIRSTNAME DEALSIZE  \n",
       "0      10022     USA       NaN              Yu             Kwai    Small  \n",
       "1      51100  France      EMEA         Henriot             Paul    Small  \n",
       "2      75508  France      EMEA        Da Cunha           Daniel   Medium  \n",
       "3      90003     USA       NaN           Young            Julie   Medium  \n",
       "4        NaN     USA       NaN           Brown            Julie   Medium  \n",
       "\n",
       "[5 rows x 25 columns]"
      ]
     },
     "execution_count": 55,
     "metadata": {},
     "output_type": "execute_result"
    }
   ],
   "source": [
    "df.head()"
   ]
  },
  {
   "cell_type": "code",
   "execution_count": 56,
   "id": "90f12b35-09b7-4149-83b8-394b8d391b36",
   "metadata": {
    "tags": []
   },
   "outputs": [],
   "source": [
    "import sqlalchemy"
   ]
  },
  {
   "cell_type": "code",
   "execution_count": 57,
   "id": "c97c8b29-85f4-46a7-9a0e-188c817a6a56",
   "metadata": {
    "tags": []
   },
   "outputs": [],
   "source": [
    "from sqlalchemy import create_engine"
   ]
  },
  {
   "cell_type": "code",
   "execution_count": 58,
   "id": "492000f7-e074-4415-9725-c06798760ef3",
   "metadata": {
    "tags": []
   },
   "outputs": [],
   "source": [
    "from sqlalchemy import text"
   ]
  },
  {
   "cell_type": "code",
   "execution_count": 59,
   "id": "c250ec35-0162-4f5c-a7e0-e141129638c2",
   "metadata": {
    "tags": []
   },
   "outputs": [],
   "source": [
    "# Create a temporary DB in my own RAM \n",
    "\n",
    "# Push Pandas DB --> into the temporary DB \n",
    "\n",
    "# Be able to preform a SQL query on the temporary DB"
   ]
  },
  {
   "cell_type": "code",
   "execution_count": 60,
   "id": "77267130-da86-4391-92e0-2ecfa30364f6",
   "metadata": {
    "tags": []
   },
   "outputs": [],
   "source": [
    "# Turn the file into an in memory sql database"
   ]
  },
  {
   "cell_type": "code",
   "execution_count": 61,
   "id": "c0b08bd1-a170-45a6-956d-e7232803dc8d",
   "metadata": {
    "tags": []
   },
   "outputs": [],
   "source": [
    "temp_db = create_engine('sqlite:///:memory:',echo = True)"
   ]
  },
  {
   "cell_type": "code",
   "execution_count": 62,
   "id": "02f929fc-0ad0-460f-bfdd-bd43b98808aa",
   "metadata": {
    "tags": []
   },
   "outputs": [
    {
     "name": "stdout",
     "output_type": "stream",
     "text": [
      "2023-08-23 09:56:19,356 INFO sqlalchemy.engine.Engine PRAGMA main.table_info(\"Sales\")\n",
      "2023-08-23 09:56:19,356 INFO sqlalchemy.engine.Engine [raw sql] ()\n",
      "2023-08-23 09:56:19,365 INFO sqlalchemy.engine.Engine PRAGMA temp.table_info(\"Sales\")\n",
      "2023-08-23 09:56:19,366 INFO sqlalchemy.engine.Engine [raw sql] ()\n",
      "2023-08-23 09:56:19,373 INFO sqlalchemy.engine.Engine BEGIN (implicit)\n",
      "2023-08-23 09:56:19,373 INFO sqlalchemy.engine.Engine \n",
      "CREATE TABLE \"Sales\" (\n",
      "\t\"index\" BIGINT, \n",
      "\t\"ORDERNUMBER\" BIGINT, \n",
      "\t\"QUANTITYORDERED\" BIGINT, \n",
      "\t\"PRICEEACH\" FLOAT, \n",
      "\t\"ORDERLINENUMBER\" BIGINT, \n",
      "\t\"SALES\" FLOAT, \n",
      "\t\"ORDERDATE\" TEXT, \n",
      "\t\"STATUS\" TEXT, \n",
      "\t\"QTR_ID\" BIGINT, \n",
      "\t\"MONTH_ID\" BIGINT, \n",
      "\t\"YEAR_ID\" BIGINT, \n",
      "\t\"PRODUCTLINE\" TEXT, \n",
      "\t\"MSRP\" BIGINT, \n",
      "\t\"PRODUCTCODE\" TEXT, \n",
      "\t\"CUSTOMERNAME\" TEXT, \n",
      "\t\"PHONE\" TEXT, \n",
      "\t\"ADDRESSLINE1\" TEXT, \n",
      "\t\"ADDRESSLINE2\" TEXT, \n",
      "\t\"CITY\" TEXT, \n",
      "\t\"STATE\" TEXT, \n",
      "\t\"POSTALCODE\" TEXT, \n",
      "\t\"COUNTRY\" TEXT, \n",
      "\t\"TERRITORY\" TEXT, \n",
      "\t\"CONTACTLASTNAME\" TEXT, \n",
      "\t\"CONTACTFIRSTNAME\" TEXT, \n",
      "\t\"DEALSIZE\" TEXT\n",
      ")\n",
      "\n",
      "\n",
      "2023-08-23 09:56:19,381 INFO sqlalchemy.engine.Engine [no key 0.00275s] ()\n",
      "2023-08-23 09:56:19,390 INFO sqlalchemy.engine.Engine CREATE INDEX \"ix_Sales_index\" ON \"Sales\" (\"index\")\n",
      "2023-08-23 09:56:19,390 INFO sqlalchemy.engine.Engine [no key 0.00180s] ()\n",
      "2023-08-23 09:56:19,393 INFO sqlalchemy.engine.Engine COMMIT\n",
      "2023-08-23 09:56:19,413 INFO sqlalchemy.engine.Engine BEGIN (implicit)\n",
      "2023-08-23 09:56:19,536 INFO sqlalchemy.engine.Engine INSERT INTO \"Sales\" (\"index\", \"ORDERNUMBER\", \"QUANTITYORDERED\", \"PRICEEACH\", \"ORDERLINENUMBER\", \"SALES\", \"ORDERDATE\", \"STATUS\", \"QTR_ID\", \"MONTH_ID\", \"YEAR_ID\", \"PRODUCTLINE\", \"MSRP\", \"PRODUCTCODE\", \"CUSTOMERNAME\", \"PHONE\", \"ADDRESSLINE1\", \"ADDRESSLINE2\", \"CITY\", \"STATE\", \"POSTALCODE\", \"COUNTRY\", \"TERRITORY\", \"CONTACTLASTNAME\", \"CONTACTFIRSTNAME\", \"DEALSIZE\") VALUES (?, ?, ?, ?, ?, ?, ?, ?, ?, ?, ?, ?, ?, ?, ?, ?, ?, ?, ?, ?, ?, ?, ?, ?, ?, ?)\n",
      "2023-08-23 09:56:19,536 INFO sqlalchemy.engine.Engine [generated in 0.09523s] ((0, 10107, 30, 95.7, 2, 2871.0, '2/24/2003 0:00', 'Shipped', 1, 2, 2003, 'Motorcycles', 95, 'S10_1678', 'Land of Toys Inc.', '2125557818', '897 Long Airport Avenue', None, 'NYC', 'NY', '10022', 'USA', None, 'Yu', 'Kwai', 'Small'), (1, 10121, 34, 81.35, 5, 2765.9, '5/7/2003 0:00', 'Shipped', 2, 5, 2003, 'Motorcycles', 95, 'S10_1678', 'Reims Collectables', '26.47.1555', \"59 rue de l'Abbaye\", None, 'Reims', None, '51100', 'France', 'EMEA', 'Henriot', 'Paul', 'Small'), (2, 10134, 41, 94.74, 2, 3884.34, '7/1/2003 0:00', 'Shipped', 3, 7, 2003, 'Motorcycles', 95, 'S10_1678', 'Lyon Souveniers', '+33 1 46 62 7555', '27 rue du Colonel Pierre Avia', None, 'Paris', None, '75508', 'France', 'EMEA', 'Da Cunha', 'Daniel', 'Medium'), (3, 10145, 45, 83.26, 6, 3746.7, '8/25/2003 0:00', 'Shipped', 3, 8, 2003, 'Motorcycles', 95, 'S10_1678', 'Toys4GrownUps.com', '6265557265', '78934 Hillside Dr.', None, 'Pasadena', 'CA', '90003', 'USA', None, 'Young', 'Julie', 'Medium'), (4, 10159, 49, 100.0, 14, 5205.27, '10/10/2003 0:00', 'Shipped', 4, 10, 2003, 'Motorcycles', 95, 'S10_1678', 'Corporate Gift Ideas Co.', '6505551386', '7734 Strong St.', None, 'San Francisco', 'CA', None, 'USA', None, 'Brown', 'Julie', 'Medium'), (5, 10168, 36, 96.66, 1, 3479.76, '10/28/2003 0:00', 'Shipped', 4, 10, 2003, 'Motorcycles', 95, 'S10_1678', 'Technics Stores Inc.', '6505556809', '9408 Furth Circle', None, 'Burlingame', 'CA', '94217', 'USA', None, 'Hirano', 'Juri', 'Medium'), (6, 10180, 29, 86.13, 9, 2497.77, '11/11/2003 0:00', 'Shipped', 4, 11, 2003, 'Motorcycles', 95, 'S10_1678', 'Daedalus Designs Imports', '20.16.1555', '184, chausse de Tournai', None, 'Lille', None, '59000', 'France', 'EMEA', 'Rance', 'Martine', 'Small'), (7, 10188, 48, 100.0, 1, 5512.32, '11/18/2003 0:00', 'Shipped', 4, 11, 2003, 'Motorcycles', 95, 'S10_1678', 'Herkku Gifts', '+47 2267 3215', 'Drammen 121, PR 744 Sentrum', None, 'Bergen', None, 'N 5804', 'Norway', 'EMEA', 'Oeztan', 'Veysel', 'Medium')  ... displaying 10 of 2823 total bound parameter sets ...  (2821, 10397, 34, 62.24, 1, 2116.16, '3/28/2005 0:00', 'Shipped', 1, 3, 2005, 'Ships', 54, 'S72_3212', 'Alpha Cognac', '61.77.6555', '1 rue Alsace-Lorraine', None, 'Toulouse', None, '31000', 'France', 'EMEA', 'Roulet', 'Annette', 'Small'), (2822, 10414, 47, 65.52, 9, 3079.44, '5/6/2005 0:00', 'On Hold', 2, 5, 2005, 'Ships', 54, 'S72_3212', 'Gifts4AllAges.com', '6175559555', '8616 Spinnaker Dr.', None, 'Boston', 'MA', '51003', 'USA', None, 'Yoshido', 'Juri', 'Medium'))\n",
      "2023-08-23 09:56:19,588 INFO sqlalchemy.engine.Engine COMMIT\n",
      "2023-08-23 09:56:19,589 INFO sqlalchemy.engine.Engine SELECT name FROM sqlite_master WHERE type='table' ORDER BY name\n",
      "2023-08-23 09:56:19,589 INFO sqlalchemy.engine.Engine [raw sql] ()\n"
     ]
    }
   ],
   "source": [
    "data = df.to_sql(name= 'Sales',con= temp_db)"
   ]
  },
  {
   "cell_type": "code",
   "execution_count": 63,
   "id": "37e2fffe-5070-4409-86b6-b93423390f19",
   "metadata": {
    "tags": []
   },
   "outputs": [
    {
     "name": "stdout",
     "output_type": "stream",
     "text": [
      "2023-08-23 09:56:40,180 INFO sqlalchemy.engine.Engine SELECT SUM(SALES) FROM Sales\n",
      "2023-08-23 09:56:40,180 INFO sqlalchemy.engine.Engine [generated in 0.00137s] ()\n"
     ]
    }
   ],
   "source": [
    "with temp_db.connect() as conn:\n",
    "    # need to make the connection \n",
    "    \n",
    "    # run code indentation/block of code \n",
    "    result = conn.execute(text(\"SELECT SUM(SALES) FROM Sales\"))\n",
    "    # auto close connection"
   ]
  },
  {
   "cell_type": "code",
   "execution_count": 64,
   "id": "a09e6e21-c511-4b6b-a6ff-cbda76e60bf4",
   "metadata": {
    "tags": []
   },
   "outputs": [
    {
     "data": {
      "text/plain": [
       "[(10032628.85000001,)]"
      ]
     },
     "execution_count": 64,
     "metadata": {},
     "output_type": "execute_result"
    }
   ],
   "source": [
    "result.all()"
   ]
  },
  {
   "cell_type": "code",
   "execution_count": 65,
   "id": "d640ef67-f879-49d1-b366-8eda9f0e0b66",
   "metadata": {
    "tags": []
   },
   "outputs": [],
   "source": [
    "# create a function to input text from a non-technical user"
   ]
  },
  {
   "cell_type": "code",
   "execution_count": 66,
   "id": "779903e7-b651-4afc-9128-ec83c0178e00",
   "metadata": {
    "tags": []
   },
   "outputs": [],
   "source": [
    "def create_table_definition(df):\n",
    "    prompt = \"\"\"### sqlite SQL table, with its properties:\n",
    "    #\n",
    "    # Sales ({})\n",
    "    #\n",
    "    \"\"\".format(\",\".join(str(col) for col in df.columns)) \n",
    "    \n",
    "    return prompt"
   ]
  },
  {
   "cell_type": "code",
   "execution_count": 67,
   "id": "cff3d9aa-fc62-4960-81ae-a146661e32d3",
   "metadata": {
    "tags": []
   },
   "outputs": [],
   "source": [
    "def prompt_input():\n",
    "    nlp_text = input(\"Enter the info you want: \")\n",
    "    return nlp_text"
   ]
  },
  {
   "cell_type": "code",
   "execution_count": 69,
   "id": "ae4e213d-8c8f-49b0-9ff9-6ef680ce1d51",
   "metadata": {
    "tags": []
   },
   "outputs": [
    {
     "name": "stdin",
     "output_type": "stream",
     "text": [
      "Enter the info you want:  get me all sales per quarter, rounded down to 2 decimal places\n"
     ]
    },
    {
     "data": {
      "text/plain": [
       "'get me all sales per quarter, rounded down to 2 decimal places'"
      ]
     },
     "execution_count": 69,
     "metadata": {},
     "output_type": "execute_result"
    }
   ],
   "source": [
    "prompt_input() #E.G you want all sales per quarter"
   ]
  },
  {
   "cell_type": "code",
   "execution_count": 70,
   "id": "b571a2bf-66ed-4a52-bcd6-7538a70428bb",
   "metadata": {
    "tags": []
   },
   "outputs": [],
   "source": [
    "def combine_prompts(df, query_prompt):\n",
    "    definition = create_table_definition(df)\n",
    "    query_init_string = f\"### A query to answer: {query_prompt}\\nSELECT\"\n",
    "    return definition + query_init_string"
   ]
  },
  {
   "cell_type": "code",
   "execution_count": 71,
   "id": "613987f4-4aae-4d5b-b6b6-f09e74f9b8e8",
   "metadata": {
    "tags": []
   },
   "outputs": [
    {
     "name": "stdin",
     "output_type": "stream",
     "text": [
      "Enter the info you want:  show me total sales per quarter, rounded down to 2 decimal places\n"
     ]
    },
    {
     "data": {
      "text/plain": [
       "'### sqlite SQL table, with its properties:\\n    #\\n    # Sales (ORDERNUMBER,QUANTITYORDERED,PRICEEACH,ORDERLINENUMBER,SALES,ORDERDATE,STATUS,QTR_ID,MONTH_ID,YEAR_ID,PRODUCTLINE,MSRP,PRODUCTCODE,CUSTOMERNAME,PHONE,ADDRESSLINE1,ADDRESSLINE2,CITY,STATE,POSTALCODE,COUNTRY,TERRITORY,CONTACTLASTNAME,CONTACTFIRSTNAME,DEALSIZE)\\n    #\\n    ### A query to answer: show me total sales per quarter, rounded down to 2 decimal places\\nSELECT'"
      ]
     },
     "execution_count": 71,
     "metadata": {},
     "output_type": "execute_result"
    }
   ],
   "source": [
    "nlp_text = prompt_input() # NLP, total sales per quarter\n",
    "combine_prompts (df, nlp_text) # DF + query that does.... + NLP"
   ]
  },
  {
   "cell_type": "code",
   "execution_count": 72,
   "id": "f107c4cd-f371-4250-8afd-f0e068333a81",
   "metadata": {
    "tags": []
   },
   "outputs": [],
   "source": [
    "prompt = combine_prompts(df, nlp_text)"
   ]
  },
  {
   "cell_type": "code",
   "execution_count": 73,
   "id": "c6a426c4-0b2f-46a1-9a8a-7b3acf12a164",
   "metadata": {
    "tags": []
   },
   "outputs": [
    {
     "name": "stdout",
     "output_type": "stream",
     "text": [
      "### sqlite SQL table, with its properties:\n",
      "    #\n",
      "    # Sales (ORDERNUMBER,QUANTITYORDERED,PRICEEACH,ORDERLINENUMBER,SALES,ORDERDATE,STATUS,QTR_ID,MONTH_ID,YEAR_ID,PRODUCTLINE,MSRP,PRODUCTCODE,CUSTOMERNAME,PHONE,ADDRESSLINE1,ADDRESSLINE2,CITY,STATE,POSTALCODE,COUNTRY,TERRITORY,CONTACTLASTNAME,CONTACTFIRSTNAME,DEALSIZE)\n",
      "    #\n",
      "    ### A query to answer: show me total sales per quarter, rounded down to 2 decimal places\n",
      "SELECT\n"
     ]
    }
   ],
   "source": [
    "print(prompt)"
   ]
  },
  {
   "cell_type": "code",
   "execution_count": 74,
   "id": "59d44b0a-82d4-4360-b4d7-f7afdd22c32d",
   "metadata": {
    "tags": []
   },
   "outputs": [],
   "source": [
    "# pass in the prompt to the openai Completion Create"
   ]
  },
  {
   "cell_type": "code",
   "execution_count": 75,
   "id": "508e61af-939e-4e38-9817-6b5aa2b76a0f",
   "metadata": {
    "tags": []
   },
   "outputs": [],
   "source": [
    "response = openai.Completion.create(\n",
    "        model = 'text-davinci-003',\n",
    "        prompt = combine_prompts(df, nlp_text),\n",
    "        temperature = 0,\n",
    "        max_tokens = 150,\n",
    "        top_p = 1.0,\n",
    "        frequency_penalty = 0,\n",
    "        presence_penalty = 0,\n",
    "        stop = ['#', ';']\n",
    ")"
   ]
  },
  {
   "cell_type": "code",
   "execution_count": 76,
   "id": "652abff9-f800-4efb-a525-0f9ea16a0920",
   "metadata": {},
   "outputs": [
    {
     "data": {
      "text/plain": [
       "' QTR_ID, ROUND(SUM(SALES),2) AS Total_Sales\\nFROM Sales\\nGROUP BY QTR_ID'"
      ]
     },
     "execution_count": 76,
     "metadata": {},
     "output_type": "execute_result"
    }
   ],
   "source": [
    "response['choices'][0]['text']"
   ]
  },
  {
   "cell_type": "code",
   "execution_count": 77,
   "id": "dbbaacbe-0dd2-4dd0-9fff-3b0eaa927983",
   "metadata": {},
   "outputs": [],
   "source": [
    "def handle_response(response):\n",
    "    query = response['choices'][0]['text']\n",
    "    if query.startswith(\" \"):\n",
    "        query = \"SELECT\" + query\n",
    "    return query"
   ]
  },
  {
   "cell_type": "code",
   "execution_count": 78,
   "id": "17635567-9fe8-4add-9e64-ae26d7590bf2",
   "metadata": {
    "tags": []
   },
   "outputs": [],
   "source": [
    "# create a handled response to get a cleaned up response, with only the information we need"
   ]
  },
  {
   "cell_type": "code",
   "execution_count": 79,
   "id": "7331186d-e52c-457f-a617-38d844734a16",
   "metadata": {
    "tags": []
   },
   "outputs": [
    {
     "data": {
      "text/plain": [
       "'SELECT QTR_ID, ROUND(SUM(SALES),2) AS Total_Sales\\nFROM Sales\\nGROUP BY QTR_ID'"
      ]
     },
     "execution_count": 79,
     "metadata": {},
     "output_type": "execute_result"
    }
   ],
   "source": [
    "handle_response(response)"
   ]
  },
  {
   "cell_type": "code",
   "execution_count": 80,
   "id": "b4d870d0-7bbb-452a-8274-5467220f0446",
   "metadata": {
    "tags": []
   },
   "outputs": [
    {
     "name": "stdout",
     "output_type": "stream",
     "text": [
      "2023-08-23 09:59:44,400 INFO sqlalchemy.engine.Engine SELECT QTR_ID, ROUND(SUM(SALES),2) AS Total_Sales\n",
      "FROM Sales\n",
      "GROUP BY QTR_ID\n",
      "2023-08-23 09:59:44,400 INFO sqlalchemy.engine.Engine [generated in 0.00271s] ()\n"
     ]
    }
   ],
   "source": [
    "with temp_db.connect() as conn:\n",
    "    result = conn.execute(text(handle_response(response)))"
   ]
  },
  {
   "cell_type": "code",
   "execution_count": 81,
   "id": "9231ebda-0135-4a1d-a19c-4ac100a2fdea",
   "metadata": {
    "tags": []
   },
   "outputs": [],
   "source": [
    "# run the code to return the results"
   ]
  },
  {
   "cell_type": "code",
   "execution_count": 82,
   "id": "80c3eeb6-3f45-4f36-b2af-b70599ca60a9",
   "metadata": {
    "tags": []
   },
   "outputs": [
    {
     "data": {
      "text/plain": [
       "[(1, 2350817.73), (2, 2048120.3), (3, 1758910.81), (4, 3874780.01)]"
      ]
     },
     "execution_count": 82,
     "metadata": {},
     "output_type": "execute_result"
    }
   ],
   "source": [
    "result.all()"
   ]
  },
  {
   "cell_type": "code",
   "execution_count": null,
   "id": "cb968f85-0a46-4f41-8702-7b8e08516134",
   "metadata": {},
   "outputs": [],
   "source": []
  }
 ],
 "metadata": {
  "kernelspec": {
   "display_name": "Python 3 (ipykernel)",
   "language": "python",
   "name": "python3"
  },
  "language_info": {
   "codemirror_mode": {
    "name": "ipython",
    "version": 3
   },
   "file_extension": ".py",
   "mimetype": "text/x-python",
   "name": "python",
   "nbconvert_exporter": "python",
   "pygments_lexer": "ipython3",
   "version": "3.11.3"
  }
 },
 "nbformat": 4,
 "nbformat_minor": 5
}
